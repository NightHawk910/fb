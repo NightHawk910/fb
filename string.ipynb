{
 "cells": [
  {
   "cell_type": "code",
   "execution_count": 1,
   "id": "c6e2c567",
   "metadata": {},
   "outputs": [
    {
     "data": {
      "text/plain": [
       "'daksh'"
      ]
     },
     "execution_count": 1,
     "metadata": {},
     "output_type": "execute_result"
    }
   ],
   "source": [
    "'daksh'"
   ]
  },
  {
   "cell_type": "code",
   "execution_count": 2,
   "id": "0f75aebc",
   "metadata": {},
   "outputs": [
    {
     "data": {
      "text/plain": [
       "'daksh'"
      ]
     },
     "execution_count": 2,
     "metadata": {},
     "output_type": "execute_result"
    }
   ],
   "source": [
    "\"daksh\""
   ]
  },
  {
   "cell_type": "markdown",
   "id": "f9e34685",
   "metadata": {},
   "source": [
    "if you want to remove quote do print"
   ]
  },
  {
   "cell_type": "code",
   "execution_count": 3,
   "id": "a83ca0e1",
   "metadata": {},
   "outputs": [
    {
     "name": "stdout",
     "output_type": "stream",
     "text": [
      "daksh\n"
     ]
    }
   ],
   "source": [
    "print ('daksh')"
   ]
  },
  {
   "cell_type": "code",
   "execution_count": 4,
   "id": "aafef2ab",
   "metadata": {},
   "outputs": [
    {
     "name": "stdout",
     "output_type": "stream",
     "text": [
      "daksh\n"
     ]
    }
   ],
   "source": [
    "print (\"daksh\")"
   ]
  },
  {
   "cell_type": "code",
   "execution_count": 5,
   "id": "a90d796d",
   "metadata": {},
   "outputs": [],
   "source": [
    "x = 'daksh'"
   ]
  },
  {
   "cell_type": "code",
   "execution_count": 6,
   "id": "9f6872e4",
   "metadata": {},
   "outputs": [
    {
     "data": {
      "text/plain": [
       "'daksh'"
      ]
     },
     "execution_count": 6,
     "metadata": {},
     "output_type": "execute_result"
    }
   ],
   "source": [
    "x"
   ]
  },
  {
   "cell_type": "code",
   "execution_count": 7,
   "id": "3df9a5ee",
   "metadata": {},
   "outputs": [
    {
     "name": "stdout",
     "output_type": "stream",
     "text": [
      "100rupees\n"
     ]
    }
   ],
   "source": [
    "y = 100\n",
    "print (str(y) + 'rupees')"
   ]
  },
  {
   "cell_type": "markdown",
   "id": "5d05cbf4",
   "metadata": {},
   "source": [
    "Python can automatically guess the type of data you are entering"
   ]
  },
  {
   "cell_type": "code",
   "execution_count": 8,
   "id": "f0fd1596",
   "metadata": {},
   "outputs": [
    {
     "ename": "SyntaxError",
     "evalue": "unterminated string literal (detected at line 1) (1587376036.py, line 1)",
     "output_type": "error",
     "traceback": [
      "\u001b[0;36m  Cell \u001b[0;32mIn [8], line 1\u001b[0;36m\u001b[0m\n\u001b[0;31m    'i'm fine'\u001b[0m\n\u001b[0m             ^\u001b[0m\n\u001b[0;31mSyntaxError\u001b[0m\u001b[0;31m:\u001b[0m unterminated string literal (detected at line 1)\n"
     ]
    }
   ],
   "source": [
    "'i'm fine'"
   ]
  },
  {
   "cell_type": "markdown",
   "id": "4b939aea",
   "metadata": {},
   "source": [
    "it will display error which is obvious ...to avoid this situation we can use two method mentioned below"
   ]
  },
  {
   "cell_type": "code",
   "execution_count": 9,
   "id": "1f49d2b0",
   "metadata": {},
   "outputs": [
    {
     "data": {
      "text/plain": [
       "\"i'm fine\""
      ]
     },
     "execution_count": 9,
     "metadata": {},
     "output_type": "execute_result"
    }
   ],
   "source": [
    "\"i'm fine\""
   ]
  },
  {
   "cell_type": "code",
   "execution_count": 10,
   "id": "55b9615a",
   "metadata": {},
   "outputs": [
    {
     "data": {
      "text/plain": [
       "\"i'm fine\""
      ]
     },
     "execution_count": 10,
     "metadata": {},
     "output_type": "execute_result"
    }
   ],
   "source": [
    "'i\\'m fine'"
   ]
  },
  {
   "cell_type": "code",
   "execution_count": 11,
   "id": "8b94b4f7",
   "metadata": {},
   "outputs": [
    {
     "data": {
      "text/plain": [
       "'press \"Enter\"'"
      ]
     },
     "execution_count": 11,
     "metadata": {},
     "output_type": "execute_result"
    }
   ],
   "source": [
    "'press \"Enter\"'"
   ]
  },
  {
   "cell_type": "code",
   "execution_count": 12,
   "id": "979c7865",
   "metadata": {},
   "outputs": [
    {
     "data": {
      "text/plain": [
       "'Redcar'"
      ]
     },
     "execution_count": 12,
     "metadata": {},
     "output_type": "execute_result"
    }
   ],
   "source": [
    "'Red' 'car'"
   ]
  },
  {
   "cell_type": "code",
   "execution_count": 14,
   "id": "deeead7e",
   "metadata": {},
   "outputs": [
    {
     "data": {
      "text/plain": [
       "'red car'"
      ]
     },
     "execution_count": 14,
     "metadata": {},
     "output_type": "execute_result"
    }
   ],
   "source": [
    "'red' ' car'"
   ]
  },
  {
   "cell_type": "code",
   "execution_count": 15,
   "id": "fd1ac551",
   "metadata": {},
   "outputs": [
    {
     "name": "stdout",
     "output_type": "stream",
     "text": [
      "red car\n"
     ]
    }
   ],
   "source": [
    "print('red','car')"
   ]
  },
  {
   "cell_type": "code",
   "execution_count": 16,
   "id": "27d12a53",
   "metadata": {},
   "outputs": [
    {
     "name": "stdout",
     "output_type": "stream",
     "text": [
      "red car\n"
     ]
    }
   ],
   "source": [
    "print('red' + ' car')"
   ]
  },
  {
   "cell_type": "code",
   "execution_count": 17,
   "id": "2193e206",
   "metadata": {},
   "outputs": [
    {
     "name": "stdout",
     "output_type": "stream",
     "text": [
      "3 5\n"
     ]
    }
   ],
   "source": [
    "print(3,5)"
   ]
  },
  {
   "cell_type": "code",
   "execution_count": 1,
   "id": "550ac660",
   "metadata": {},
   "outputs": [
    {
     "data": {
      "text/plain": [
       "(3, 5, 6, 2, 72)"
      ]
     },
     "execution_count": 1,
     "metadata": {},
     "output_type": "execute_result"
    }
   ],
   "source": [
    "3,5,6,2,72,"
   ]
  },
  {
   "cell_type": "code",
   "execution_count": 2,
   "id": "9e8c5ba4",
   "metadata": {},
   "outputs": [
    {
     "name": "stdout",
     "output_type": "stream",
     "text": [
      "hello world\n"
     ]
    }
   ],
   "source": [
    "# if you want to put comment in code use hash sign computer will not read this as a code\n",
    "#now lets write code here itself\n",
    "print(\"hello\" + \" world\")"
   ]
  },
  {
   "cell_type": "markdown",
   "id": "71ca1c83",
   "metadata": {},
   "source": [
    "as you can see computer didnt read comments marked by #"
   ]
  },
  {
   "cell_type": "markdown",
   "id": "5e8a39a2",
   "metadata": {},
   "source": [
    "INDEXING ELEMENT"
   ]
  },
  {
   "cell_type": "code",
   "execution_count": 1,
   "id": "b894b8c5",
   "metadata": {},
   "outputs": [
    {
     "name": "stdout",
     "output_type": "stream",
     "text": [
      "y\n"
     ]
    }
   ],
   "source": [
    "print('Holidays!'[6])"
   ]
  },
  {
   "cell_type": "markdown",
   "id": "0b5de058",
   "metadata": {},
   "source": [
    "yaha agar kisi bhi word ka koi akshar dekhna ho toh upar vali command use hogi\n",
    "indexing ma counting 0 se chalu hoti ha toh holiday ma h 0 ha then o 1 ,l 2....and so on"
   ]
  }
 ],
 "metadata": {
  "kernelspec": {
   "display_name": "Python 3 (ipykernel)",
   "language": "python",
   "name": "python3"
  },
  "language_info": {
   "codemirror_mode": {
    "name": "ipython",
    "version": 3
   },
   "file_extension": ".py",
   "mimetype": "text/x-python",
   "name": "python",
   "nbconvert_exporter": "python",
   "pygments_lexer": "ipython3",
   "version": "3.10.7"
  }
 },
 "nbformat": 4,
 "nbformat_minor": 5
}
