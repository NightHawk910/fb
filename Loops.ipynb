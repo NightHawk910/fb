{
 "cells": [
  {
   "cell_type": "markdown",
   "id": "604e3472",
   "metadata": {},
   "source": [
    "for loop"
   ]
  },
  {
   "cell_type": "code",
   "execution_count": 2,
   "id": "35c780c2",
   "metadata": {},
   "outputs": [],
   "source": [
    "even = [0,2,4,6,8,10,12,14,16,18,20.]"
   ]
  },
  {
   "cell_type": "code",
   "execution_count": 3,
   "id": "65768af3",
   "metadata": {},
   "outputs": [
    {
     "name": "stdout",
     "output_type": "stream",
     "text": [
      "0\n",
      "2\n",
      "4\n",
      "6\n",
      "8\n",
      "10\n",
      "12\n",
      "14\n",
      "16\n",
      "18\n",
      "20.0\n"
     ]
    }
   ],
   "source": [
    "for n in even:\n",
    "    print (n)"
   ]
  },
  {
   "cell_type": "markdown",
   "id": "01e3984b",
   "metadata": {},
   "source": [
    "If you want the numbers to print in a row then"
   ]
  },
  {
   "cell_type": "code",
   "execution_count": 5,
   "id": "d03a9c4f",
   "metadata": {},
   "outputs": [
    {
     "name": "stdout",
     "output_type": "stream",
     "text": [
      "0 2 4 6 8 10 12 14 16 18 20.0 "
     ]
    }
   ],
   "source": [
    "for n in even:\n",
    "    print (n, end = \" \") # double quote ka bich ma space isiliya diya ha taaki numbers ka bich ma space rahe"
   ]
  },
  {
   "cell_type": "markdown",
   "id": "9eba1ea4",
   "metadata": {},
   "source": []
  },
  {
   "cell_type": "markdown",
   "id": "ccf0d75a",
   "metadata": {},
   "source": []
  },
  {
   "cell_type": "markdown",
   "id": "1f45e8f3",
   "metadata": {},
   "source": [
    "while loops:--->"
   ]
  },
  {
   "cell_type": "code",
   "execution_count": 6,
   "id": "ee1da40f",
   "metadata": {},
   "outputs": [
    {
     "name": "stdout",
     "output_type": "stream",
     "text": [
      "0 2 4 6 8 10 12 14 16 18 20 "
     ]
    }
   ],
   "source": [
    "x = 0\n",
    "while x <= 20:\n",
    "    print(x, end = \" \")\n",
    "    x= x+2  #even if you do x+=2 just this in this line output will be same"
   ]
  },
  {
   "cell_type": "code",
   "execution_count": 3,
   "id": "006caa3e",
   "metadata": {},
   "outputs": [
    {
     "name": "stdout",
     "output_type": "stream",
     "text": [
      "1 2 4 8 16 32 64 128 256 512 "
     ]
    }
   ],
   "source": [
    "for n in range(10):\n",
    "    print (2 ** n, end = \" \")"
   ]
  },
  {
   "cell_type": "code",
   "execution_count": 4,
   "id": "f693dcc5",
   "metadata": {},
   "outputs": [
    {
     "name": "stdout",
     "output_type": "stream",
     "text": [
      "0 odd 2 odd 4 odd 6 odd 8 odd 10 odd 12 odd 14 odd 16 odd 18 odd "
     ]
    }
   ],
   "source": [
    "for x in range(20):\n",
    "    if x % 2 == 0:\n",
    "        print(x, end = \" \")\n",
    "    else:\n",
    "        print (\"odd\", end = \" \")"
   ]
  },
  {
   "cell_type": "code",
   "execution_count": null,
   "id": "63b0c096",
   "metadata": {},
   "outputs": [],
   "source": []
  }
 ],
 "metadata": {
  "kernelspec": {
   "display_name": "Python 3 (ipykernel)",
   "language": "python",
   "name": "python3"
  },
  "language_info": {
   "codemirror_mode": {
    "name": "ipython",
    "version": 3
   },
   "file_extension": ".py",
   "mimetype": "text/x-python",
   "name": "python",
   "nbconvert_exporter": "python",
   "pygments_lexer": "ipython3",
   "version": "3.10.7"
  }
 },
 "nbformat": 4,
 "nbformat_minor": 5
}
