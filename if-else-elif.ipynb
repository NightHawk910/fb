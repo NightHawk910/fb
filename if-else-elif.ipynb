{
 "cells": [
  {
   "cell_type": "code",
   "execution_count": 2,
   "id": "dd1ffe76",
   "metadata": {},
   "outputs": [
    {
     "name": "stdout",
     "output_type": "stream",
     "text": [
      "Hooray!\n"
     ]
    }
   ],
   "source": [
    "if 5 == 15/3:\n",
    "    print (\"Hooray!\")"
   ]
  },
  {
   "cell_type": "code",
   "execution_count": 3,
   "id": "310232a3",
   "metadata": {},
   "outputs": [],
   "source": [
    "if 5 == 18/3:\n",
    "    print (\"hooray!\")"
   ]
  },
  {
   "cell_type": "markdown",
   "id": "f3976218",
   "metadata": {},
   "source": [
    "nothing got printed because we didnt specify if 5 != 18/3 then what should be the output"
   ]
  },
  {
   "cell_type": "code",
   "execution_count": 4,
   "id": "5ac89340",
   "metadata": {},
   "outputs": [
    {
     "name": "stdout",
     "output_type": "stream",
     "text": [
      "hooray\n"
     ]
    }
   ],
   "source": [
    "if 5 != 3*6:\n",
    "    print(\"hooray\")"
   ]
  },
  {
   "cell_type": "code",
   "execution_count": 7,
   "id": "5bc55a8c",
   "metadata": {},
   "outputs": [
    {
     "name": "stdout",
     "output_type": "stream",
     "text": [
      "case2\n"
     ]
    }
   ],
   "source": [
    "x = 1 \n",
    "if x>3:\n",
    "    print(\"case1\")\n",
    "else:\n",
    "    print(\"case2\")"
   ]
  },
  {
   "cell_type": "markdown",
   "id": "1de2ecd1",
   "metadata": {},
   "source": [
    "remember if and else ek hi line ma dikhna chaiyajase upar dekh raha hu print ka nicha hi mat chep dena error aa jayega"
   ]
  },
  {
   "cell_type": "code",
   "execution_count": 14,
   "id": "574d3493",
   "metadata": {},
   "outputs": [],
   "source": [
    "def compare_to_five(y):\n",
    "    if y > 5:\n",
    "        return \"Greater\"\n",
    "    elif y < 0:\n",
    "        return \"negative\"\n",
    "    elif y < 5:\n",
    "        return \"less\"\n",
    "    else:\n",
    "        return \"equal\""
   ]
  },
  {
   "cell_type": "code",
   "execution_count": 15,
   "id": "ab09c250",
   "metadata": {},
   "outputs": [
    {
     "name": "stdout",
     "output_type": "stream",
     "text": [
      "Greater\n"
     ]
    }
   ],
   "source": [
    "print (compare_to_five(10))"
   ]
  },
  {
   "cell_type": "code",
   "execution_count": 16,
   "id": "93d56e9f",
   "metadata": {},
   "outputs": [
    {
     "name": "stdout",
     "output_type": "stream",
     "text": [
      "less\n"
     ]
    }
   ],
   "source": [
    "print (compare_to_five(2))"
   ]
  },
  {
   "cell_type": "code",
   "execution_count": 17,
   "id": "408b8968",
   "metadata": {},
   "outputs": [
    {
     "name": "stdout",
     "output_type": "stream",
     "text": [
      "equal\n"
     ]
    }
   ],
   "source": [
    "print (compare_to_five(5))"
   ]
  },
  {
   "cell_type": "code",
   "execution_count": 18,
   "id": "2f69aaad",
   "metadata": {},
   "outputs": [
    {
     "name": "stdout",
     "output_type": "stream",
     "text": [
      "negative\n"
     ]
    }
   ],
   "source": [
    "print (compare_to_five(-5))"
   ]
  },
  {
   "cell_type": "code",
   "execution_count": null,
   "id": "012957af",
   "metadata": {},
   "outputs": [],
   "source": []
  }
 ],
 "metadata": {
  "kernelspec": {
   "display_name": "Python 3 (ipykernel)",
   "language": "python",
   "name": "python3"
  },
  "language_info": {
   "codemirror_mode": {
    "name": "ipython",
    "version": 3
   },
   "file_extension": ".py",
   "mimetype": "text/x-python",
   "name": "python",
   "nbconvert_exporter": "python",
   "pygments_lexer": "ipython3",
   "version": "3.10.7"
  }
 },
 "nbformat": 4,
 "nbformat_minor": 5
}
