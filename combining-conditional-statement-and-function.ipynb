{
 "cells": [
  {
   "cell_type": "code",
   "execution_count": 1,
   "id": "fb6a450f",
   "metadata": {},
   "outputs": [],
   "source": [
    "def add_ten(a):\n",
    "    if a >= 100:\n",
    "        a = a + 10\n",
    "        return a\n",
    "    else:\n",
    "        return \"Save more!\""
   ]
  },
  {
   "cell_type": "code",
   "execution_count": 3,
   "id": "a3e60430",
   "metadata": {},
   "outputs": [
    {
     "data": {
      "text/plain": [
       "120"
      ]
     },
     "execution_count": 3,
     "metadata": {},
     "output_type": "execute_result"
    }
   ],
   "source": [
    "add_ten(110)"
   ]
  },
  {
   "cell_type": "code",
   "execution_count": 4,
   "id": "daa2d00d",
   "metadata": {},
   "outputs": [
    {
     "data": {
      "text/plain": [
       "'Save more!'"
      ]
     },
     "execution_count": 4,
     "metadata": {},
     "output_type": "execute_result"
    }
   ],
   "source": [
    "add_ten(50)"
   ]
  },
  {
   "cell_type": "markdown",
   "id": "87eb06b0",
   "metadata": {},
   "source": []
  },
  {
   "cell_type": "markdown",
   "id": "f99dc17f",
   "metadata": {},
   "source": [
    "Creating function containing few arguments"
   ]
  },
  {
   "cell_type": "code",
   "execution_count": 5,
   "id": "5a1177e5",
   "metadata": {},
   "outputs": [],
   "source": [
    "def subtract_bc(a,b,c):\n",
    "    result = a - b*c\n",
    "    print ('parameter a equals', a)\n",
    "    print ('parameter b equals', b)\n",
    "    print ('parameter c equals', c)\n",
    "    return result"
   ]
  },
  {
   "cell_type": "code",
   "execution_count": 6,
   "id": "b3036a57",
   "metadata": {},
   "outputs": [
    {
     "name": "stdout",
     "output_type": "stream",
     "text": [
      "parameter a equals 10\n",
      "parameter b equals 3\n",
      "parameter c equals 2\n"
     ]
    },
    {
     "data": {
      "text/plain": [
       "4"
      ]
     },
     "execution_count": 6,
     "metadata": {},
     "output_type": "execute_result"
    }
   ],
   "source": [
    "subtract_bc(10,3,2)"
   ]
  },
  {
   "cell_type": "markdown",
   "id": "e8e7e5a0",
   "metadata": {},
   "source": [
    "if we try writting like code below the code will not work as you expect cuz order matters\n"
   ]
  },
  {
   "cell_type": "code",
   "execution_count": 7,
   "id": "59f03e46",
   "metadata": {},
   "outputs": [
    {
     "name": "stdout",
     "output_type": "stream",
     "text": [
      "parameter a equals 10\n",
      "parameter b equals 3\n",
      "parameter c equals 2\n"
     ]
    },
    {
     "data": {
      "text/plain": [
       "4"
      ]
     },
     "execution_count": 7,
     "metadata": {},
     "output_type": "execute_result"
    }
   ],
   "source": [
    "subtract_bc(b=3,a=10,c=2)"
   ]
  },
  {
   "cell_type": "markdown",
   "id": "e1ee22e5",
   "metadata": {},
   "source": []
  },
  {
   "cell_type": "markdown",
   "id": "07322f57",
   "metadata": {},
   "source": []
  },
  {
   "cell_type": "code",
   "execution_count": 1,
   "id": "c33d5c5e",
   "metadata": {},
   "outputs": [],
   "source": [
    "def count(numbers):\n",
    "    total = 0\n",
    "    for x in numbers:\n",
    "        if x < 20:\n",
    "            total += 1\n",
    "    return total        "
   ]
  },
  {
   "cell_type": "code",
   "execution_count": 2,
   "id": "ef24bfe9",
   "metadata": {},
   "outputs": [],
   "source": [
    "list_1 = [1,3,7,55,43,15,25,98]"
   ]
  },
  {
   "cell_type": "code",
   "execution_count": 3,
   "id": "262f9fc6",
   "metadata": {},
   "outputs": [
    {
     "data": {
      "text/plain": [
       "4"
      ]
     },
     "execution_count": 3,
     "metadata": {},
     "output_type": "execute_result"
    }
   ],
   "source": [
    "count(list_1)"
   ]
  },
  {
   "cell_type": "markdown",
   "id": "72538aa2",
   "metadata": {},
   "source": []
  },
  {
   "cell_type": "markdown",
   "id": "39b1d85e",
   "metadata": {},
   "source": []
  },
  {
   "cell_type": "raw",
   "id": "49dde2cb",
   "metadata": {},
   "source": [
    "iteration over dictonary"
   ]
  },
  {
   "cell_type": "code",
   "execution_count": 6,
   "id": "84836624",
   "metadata": {},
   "outputs": [
    {
     "name": "stdout",
     "output_type": "stream",
     "text": [
      "78\n"
     ]
    }
   ],
   "source": [
    "prices = {\n",
    "    \"box_of_mithai\" : 4,\n",
    "    \"lasagna\" : 5,\n",
    "    \"hamburger\" : 2\n",
    "}\n",
    "quantity = {\n",
    "    \"box_of_mithai\" : 6,\n",
    "    \"lasagna\" : 10,\n",
    "    \"hamburger\" : 2\n",
    "}\n",
    "\n",
    "money_spent = 0\n",
    "\n",
    "for i in prices:\n",
    "    money_spent = money_spent + (prices[i] * quantity[i])\n",
    "print (money_spent)"
   ]
  },
  {
   "cell_type": "code",
   "execution_count": null,
   "id": "61689e4a",
   "metadata": {},
   "outputs": [],
   "source": []
  }
 ],
 "metadata": {
  "kernelspec": {
   "display_name": "Python 3 (ipykernel)",
   "language": "python",
   "name": "python3"
  },
  "language_info": {
   "codemirror_mode": {
    "name": "ipython",
    "version": 3
   },
   "file_extension": ".py",
   "mimetype": "text/x-python",
   "name": "python",
   "nbconvert_exporter": "python",
   "pygments_lexer": "ipython3",
   "version": "3.10.7"
  }
 },
 "nbformat": 4,
 "nbformat_minor": 5
}
