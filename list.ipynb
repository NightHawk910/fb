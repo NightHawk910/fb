{
 "cells": [
  {
   "cell_type": "code",
   "execution_count": 1,
   "id": "63e58540",
   "metadata": {},
   "outputs": [
    {
     "data": {
      "text/plain": [
       "['daksh', 'aman', 'anshul', 'dev']"
      ]
     },
     "execution_count": 1,
     "metadata": {},
     "output_type": "execute_result"
    }
   ],
   "source": [
    "participants = ['daksh','aman','anshul','dev']\n",
    "participants"
   ]
  },
  {
   "cell_type": "code",
   "execution_count": 2,
   "id": "e6c231e7",
   "metadata": {},
   "outputs": [
    {
     "name": "stdout",
     "output_type": "stream",
     "text": [
      "aman\n"
     ]
    }
   ],
   "source": [
    "print(participants[1])"
   ]
  },
  {
   "cell_type": "code",
   "execution_count": 3,
   "id": "ea9269a1",
   "metadata": {},
   "outputs": [
    {
     "data": {
      "text/plain": [
       "'dev'"
      ]
     },
     "execution_count": 3,
     "metadata": {},
     "output_type": "execute_result"
    }
   ],
   "source": [
    "participants[-1]"
   ]
  },
  {
   "cell_type": "markdown",
   "id": "c60403dd",
   "metadata": {},
   "source": [
    "now if we want to delete someone from the list see the following code..assume dev is to be deleted and instead of dev akshay is added then"
   ]
  },
  {
   "cell_type": "code",
   "execution_count": 4,
   "id": "6b8dd088",
   "metadata": {},
   "outputs": [
    {
     "data": {
      "text/plain": [
       "['daksh', 'aman', 'anshul', 'akshay']"
      ]
     },
     "execution_count": 4,
     "metadata": {},
     "output_type": "execute_result"
    }
   ],
   "source": [
    "participants[3] = 'akshay' #ab soch rahe hoga 3 kyu likha 4 kyu nahi akshay toh 4th no pa ha toh bhai counting idhar 0 se chalu hoti ha\n",
    "participants"
   ]
  },
  {
   "cell_type": "markdown",
   "id": "d1215b23",
   "metadata": {},
   "source": [
    "now if we have to permanently del someone not replace then"
   ]
  },
  {
   "cell_type": "code",
   "execution_count": 6,
   "id": "c066a3ec",
   "metadata": {},
   "outputs": [
    {
     "data": {
      "text/plain": [
       "['daksh', 'anshul', 'akshay']"
      ]
     },
     "execution_count": 6,
     "metadata": {},
     "output_type": "execute_result"
    }
   ],
   "source": [
    "del participants[1]\n",
    "participants"
   ]
  },
  {
   "cell_type": "markdown",
   "id": "c1fd47c2",
   "metadata": {},
   "source": [
    "Now if you want to add something in your list "
   ]
  },
  {
   "cell_type": "code",
   "execution_count": 7,
   "id": "dd963434",
   "metadata": {},
   "outputs": [
    {
     "data": {
      "text/plain": [
       "['daksh', 'anshul', 'akshay', 'gautam']"
      ]
     },
     "execution_count": 7,
     "metadata": {},
     "output_type": "execute_result"
    }
   ],
   "source": [
    "participants.append(\"gautam\")\n",
    "participants"
   ]
  },
  {
   "cell_type": "markdown",
   "id": "91f44035",
   "metadata": {},
   "source": [
    "Now if you want to add more than 1 name"
   ]
  },
  {
   "cell_type": "code",
   "execution_count": 9,
   "id": "2166d911",
   "metadata": {},
   "outputs": [
    {
     "data": {
      "text/plain": [
       "['daksh', 'anshul', 'akshay', 'gautam', 'adani', 'ravi']"
      ]
     },
     "execution_count": 9,
     "metadata": {},
     "output_type": "execute_result"
    }
   ],
   "source": [
    "participants.extend(['adani','ravi'])\n",
    "participants"
   ]
  },
  {
   "cell_type": "code",
   "execution_count": 10,
   "id": "7db75455",
   "metadata": {},
   "outputs": [
    {
     "name": "stdout",
     "output_type": "stream",
     "text": [
      "the first participant isdaksh\n"
     ]
    }
   ],
   "source": [
    "print ('the first participant is' + participants[0])"
   ]
  },
  {
   "cell_type": "code",
   "execution_count": 11,
   "id": "30548b52",
   "metadata": {},
   "outputs": [
    {
     "name": "stdout",
     "output_type": "stream",
     "text": [
      "the first participant is daksh.\n"
     ]
    }
   ],
   "source": [
    "print ('the first participant is ' + participants[0] + '.')"
   ]
  },
  {
   "cell_type": "code",
   "execution_count": 12,
   "id": "3edcf170",
   "metadata": {},
   "outputs": [
    {
     "data": {
      "text/plain": [
       "6"
      ]
     },
     "execution_count": 12,
     "metadata": {},
     "output_type": "execute_result"
    }
   ],
   "source": [
    "len(participants)"
   ]
  },
  {
   "cell_type": "markdown",
   "id": "892bddb4",
   "metadata": {},
   "source": []
  },
  {
   "cell_type": "markdown",
   "id": "b3700a23",
   "metadata": {},
   "source": []
  },
  {
   "cell_type": "markdown",
   "id": "3db65090",
   "metadata": {},
   "source": [
    "Now we will learn about list slicing"
   ]
  },
  {
   "cell_type": "code",
   "execution_count": 13,
   "id": "216e42f1",
   "metadata": {},
   "outputs": [
    {
     "data": {
      "text/plain": [
       "['daksh', 'anshul', 'akshay', 'gautam', 'adani', 'ravi']"
      ]
     },
     "execution_count": 13,
     "metadata": {},
     "output_type": "execute_result"
    }
   ],
   "source": [
    "participants"
   ]
  },
  {
   "cell_type": "code",
   "execution_count": 14,
   "id": "12a0908d",
   "metadata": {},
   "outputs": [
    {
     "data": {
      "text/plain": [
       "['anshul', 'akshay']"
      ]
     },
     "execution_count": 14,
     "metadata": {},
     "output_type": "execute_result"
    }
   ],
   "source": [
    "participants[1:3]"
   ]
  },
  {
   "cell_type": "code",
   "execution_count": 15,
   "id": "21f860ab",
   "metadata": {},
   "outputs": [
    {
     "data": {
      "text/plain": [
       "['anshul', 'akshay', 'gautam']"
      ]
     },
     "execution_count": 15,
     "metadata": {},
     "output_type": "execute_result"
    }
   ],
   "source": [
    "participants[1:4]"
   ]
  },
  {
   "cell_type": "code",
   "execution_count": 16,
   "id": "42fbdb9c",
   "metadata": {},
   "outputs": [
    {
     "data": {
      "text/plain": [
       "['daksh', 'anshul']"
      ]
     },
     "execution_count": 16,
     "metadata": {},
     "output_type": "execute_result"
    }
   ],
   "source": [
    "participants[:2]"
   ]
  },
  {
   "cell_type": "code",
   "execution_count": 18,
   "id": "3749060f",
   "metadata": {},
   "outputs": [
    {
     "data": {
      "text/plain": [
       "['akshay', 'gautam', 'adani', 'ravi']"
      ]
     },
     "execution_count": 18,
     "metadata": {},
     "output_type": "execute_result"
    }
   ],
   "source": [
    "participants[2:]"
   ]
  },
  {
   "cell_type": "code",
   "execution_count": 19,
   "id": "c99f7db2",
   "metadata": {},
   "outputs": [
    {
     "data": {
      "text/plain": [
       "['adani', 'ravi']"
      ]
     },
     "execution_count": 19,
     "metadata": {},
     "output_type": "execute_result"
    }
   ],
   "source": [
    "participants[4:]"
   ]
  },
  {
   "cell_type": "code",
   "execution_count": 20,
   "id": "8ceb35c9",
   "metadata": {},
   "outputs": [
    {
     "data": {
      "text/plain": [
       "['adani', 'ravi']"
      ]
     },
     "execution_count": 20,
     "metadata": {},
     "output_type": "execute_result"
    }
   ],
   "source": [
    "participants[-2:]"
   ]
  },
  {
   "cell_type": "markdown",
   "id": "25c928e2",
   "metadata": {},
   "source": [
    "Now if you want to know position of any participant in the list just type the following code"
   ]
  },
  {
   "cell_type": "code",
   "execution_count": 23,
   "id": "14345e2a",
   "metadata": {},
   "outputs": [
    {
     "data": {
      "text/plain": [
       "4"
      ]
     },
     "execution_count": 23,
     "metadata": {},
     "output_type": "execute_result"
    }
   ],
   "source": [
    "participants.index(\"adani\")"
   ]
  },
  {
   "cell_type": "markdown",
   "id": "5a40f2af",
   "metadata": {},
   "source": [
    "adding newcomers now"
   ]
  },
  {
   "cell_type": "code",
   "execution_count": 25,
   "id": "78a7b630",
   "metadata": {},
   "outputs": [
    {
     "data": {
      "text/plain": [
       "['daman', 'chavi']"
      ]
     },
     "execution_count": 25,
     "metadata": {},
     "output_type": "execute_result"
    }
   ],
   "source": [
    "newcommers = ['daman','chavi']\n",
    "newcommers"
   ]
  },
  {
   "cell_type": "code",
   "execution_count": 26,
   "id": "fa81cf9f",
   "metadata": {},
   "outputs": [
    {
     "data": {
      "text/plain": [
       "[['daksh', 'anshul', 'akshay', 'gautam', 'adani', 'ravi'], ['daman', 'chavi']]"
      ]
     },
     "execution_count": 26,
     "metadata": {},
     "output_type": "execute_result"
    }
   ],
   "source": [
    "bigger_list =[participants, newcommers]\n",
    "bigger_list"
   ]
  },
  {
   "cell_type": "code",
   "execution_count": 28,
   "id": "2410e7b1",
   "metadata": {},
   "outputs": [
    {
     "data": {
      "text/plain": [
       "['adani', 'akshay', 'anshul', 'daksh', 'gautam', 'ravi']"
      ]
     },
     "execution_count": 28,
     "metadata": {},
     "output_type": "execute_result"
    }
   ],
   "source": [
    "participants.sort() #list ko sort kar dega name wise\n",
    "participants"
   ]
  },
  {
   "cell_type": "code",
   "execution_count": 29,
   "id": "3f95e19e",
   "metadata": {},
   "outputs": [
    {
     "data": {
      "text/plain": [
       "['ravi', 'gautam', 'daksh', 'anshul', 'akshay', 'adani']"
      ]
     },
     "execution_count": 29,
     "metadata": {},
     "output_type": "execute_result"
    }
   ],
   "source": [
    "participants.sort(reverse=True) #sort kar ka reverse list output ma dega\n",
    "participants"
   ]
  },
  {
   "cell_type": "code",
   "execution_count": 31,
   "id": "2c7b7c21",
   "metadata": {},
   "outputs": [
    {
     "data": {
      "text/plain": [
       "[1, 2, 3, 4, 5]"
      ]
     },
     "execution_count": 31,
     "metadata": {},
     "output_type": "execute_result"
    }
   ],
   "source": [
    "numbers = [1,2,3,4,5]\n",
    "numbers.sort()\n",
    "numbers"
   ]
  },
  {
   "cell_type": "code",
   "execution_count": 33,
   "id": "d9c04b6e",
   "metadata": {},
   "outputs": [
    {
     "data": {
      "text/plain": [
       "[5, 4, 3, 2, 1]"
      ]
     },
     "execution_count": 33,
     "metadata": {},
     "output_type": "execute_result"
    }
   ],
   "source": [
    "numbers.sort(reverse=True)\n",
    "numbers"
   ]
  },
  {
   "cell_type": "code",
   "execution_count": null,
   "id": "8273f021",
   "metadata": {},
   "outputs": [],
   "source": []
  }
 ],
 "metadata": {
  "kernelspec": {
   "display_name": "Python 3 (ipykernel)",
   "language": "python",
   "name": "python3"
  },
  "language_info": {
   "codemirror_mode": {
    "name": "ipython",
    "version": 3
   },
   "file_extension": ".py",
   "mimetype": "text/x-python",
   "name": "python",
   "nbconvert_exporter": "python",
   "pygments_lexer": "ipython3",
   "version": "3.10.7"
  }
 },
 "nbformat": 4,
 "nbformat_minor": 5
}
